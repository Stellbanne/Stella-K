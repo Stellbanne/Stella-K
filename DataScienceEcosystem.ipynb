{
 "cells": [
  {
   "cell_type": "markdown",
   "id": "5fc92291-4204-4483-ade6-bce421ab9484",
   "metadata": {},
   "source": [
    "# Data Science Tools and Ecosystem"
   ]
  },
  {
   "cell_type": "markdown",
   "id": "207846a8-50c9-4f43-b076-14c13483bc34",
   "metadata": {},
   "source": [
    "# In this notebook, Data Science Tools and Ecosystems are summarized"
   ]
  },
  {
   "cell_type": "markdown",
   "id": "421bb659-c160-4391-8905-4a5534628a23",
   "metadata": {},
   "source": [
    "# Some of the popular languages that Data Scientists use are:\n",
    "1. Python\n",
    "2. SQL\n",
    "3. R\n",
    "4. Java\n",
    "5. Julia\n",
    "6. Scala\n",
    "7. C++\n",
    "8. Javascript"
   ]
  },
  {
   "cell_type": "markdown",
   "id": "684e96ab-c43e-41e6-9af9-2333ab6462b3",
   "metadata": {},
   "source": [
    "# Some commonly used libraries by Data Scientists include:\n",
    "1. Pandas\n",
    "2. Numpy\n",
    "3. Mat plot lib\n",
    "4. Seabon\n",
    "5. Scikit-learn\n",
    "6. Keras\n",
    "7. Tensorflow\n",
    "8. Pytorch"
   ]
  },
  {
   "cell_type": "markdown",
   "id": "1b7ea75d-1f13-429e-a880-0de46232f52d",
   "metadata": {},
   "source": [
    "|Data Science Tool|\n",
    "|-----------------|\n",
    "|JupyterLab|\n",
    "|Anaconda|\n",
    "|Visual Studio Code|"
   ]
  },
  {
   "cell_type": "markdown",
   "id": "a98bd2bd-aaef-4991-ad30-5a1373702092",
   "metadata": {},
   "source": [
    "### Below are a few examples of evaluating arithmetic expressions in Python"
   ]
  },
  {
   "cell_type": "code",
   "execution_count": 2,
   "id": "67dd7182-f69b-4743-b795-cca87212a426",
   "metadata": {},
   "outputs": [
    {
     "data": {
      "text/plain": [
       "17"
      ]
     },
     "execution_count": 2,
     "metadata": {},
     "output_type": "execute_result"
    }
   ],
   "source": [
    "## This is a simple arithmetic expression to multiply then add integers\n",
    "(3*4)+5"
   ]
  },
  {
   "cell_type": "markdown",
   "id": "fbdf378b-d50e-4fc4-b779-b88747dcdd01",
   "metadata": {},
   "source": [
    "## This will convert 200 minutes to hours by dividing by 60 \n",
    "(200/60)"
   ]
  },
  {
   "cell_type": "markdown",
   "id": "b4d4a4fd-328b-4907-815b-0e2142f98c39",
   "metadata": {},
   "source": [
    "**Objectives**\n",
    "List popular languages that Data Scientists Use\n",
    "List Commonly used libraries by Data Scientists\n",
    "Evaluating arithmentic expressions by Python\n"
   ]
  },
  {
   "cell_type": "markdown",
   "id": "d9c7e4ed-e59f-470a-ad87-b69b4e2f3e66",
   "metadata": {},
   "source": [
    "## Author\n",
    "Stella Kabiri"
   ]
  },
  {
   "cell_type": "code",
   "execution_count": null,
   "id": "478e0937-ec62-4051-a3c4-9809120fef3e",
   "metadata": {},
   "outputs": [],
   "source": []
  }
 ],
 "metadata": {
  "kernelspec": {
   "display_name": "Python 3 (ipykernel)",
   "language": "python",
   "name": "python3"
  },
  "language_info": {
   "codemirror_mode": {
    "name": "ipython",
    "version": 3
   },
   "file_extension": ".py",
   "mimetype": "text/x-python",
   "name": "python",
   "nbconvert_exporter": "python",
   "pygments_lexer": "ipython3",
   "version": "3.11.7"
  }
 },
 "nbformat": 4,
 "nbformat_minor": 5
}
